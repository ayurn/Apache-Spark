{
 "cells": [
  {
   "cell_type": "code",
   "execution_count": null,
   "metadata": {},
   "outputs": [],
   "source": [
    "'''\n",
    "@Author: Ayur Ninawe\n",
    "@Date: 2021-08-21\n",
    "@Last Modified by: Ayur Ninawe\n",
    "@Last Modified time: 18:00:47 2021-08-21\n",
    "@Title : write a program to get data from twitter api and analyze it using textblob and save the output.\n",
    "'''"
   ]
  },
  {
   "cell_type": "code",
   "execution_count": null,
   "metadata": {},
   "outputs": [],
   "source": [
    "import tweepy\n",
    "from  textblob import TextBlob \n",
    "import csv\n",
    "import time\n",
    "import os\n",
    "from dotenv import load_dotenv\n",
    "load_dotenv()\n"
   ]
  },
  {
   "cell_type": "code",
   "execution_count": null,
   "metadata": {},
   "outputs": [],
   "source": [
    "api_key = os.getenv('API_KEY')\n",
    "api_secret = os.getenv('API_SECRET_KEY')\n",
    "access_token = os.getenv('ACCESS_TOKEN')\n",
    "access_secret = os.getenv('ACCESS_TOKEN_SECRET')\n"
   ]
  },
  {
   "cell_type": "code",
   "execution_count": null,
   "metadata": {},
   "outputs": [],
   "source": [
    "# connected to jump server of twitter\n",
    "auth = tweepy.OAuthHandler(api_key,api_secret)\n",
    "\n",
    "# now we can connect from jump server to web server of twitter\n",
    "auth.set_access_token(access_token,access_secret)\n",
    "\n",
    "# now we can connect to API storge server of twitter\n",
    "api_connect=tweepy.API(auth)\n",
    "\n",
    "# now you can search any topic on twitter\n",
    "tweet_data=api_connect.search('dog')\n"
   ]
  },
  {
   "cell_type": "code",
   "execution_count": null,
   "metadata": {},
   "outputs": [],
   "source": [
    "pos='positive'\n",
    "neg='neagative'\n",
    "pos_count = 0\n",
    "neg_count = 0\n",
    "\n",
    "opinion = [\"pos\",\"neg\",\"pos_count\",\"neg_count\"]\n",
    "\n",
    "with open('data.csv', 'w') as csv_file:\n",
    "      csv_writer = csv.DictWriter(csv_file, fieldnames=opinion)\n",
    "      csv_writer.writeheader()\n",
    "\n",
    "while True:\n",
    "# printing line by line\n",
    "   with open('data.csv', 'a') as csv_file:\n",
    "      for tweet in tweet_data:\n",
    "         print(tweet.text)\n",
    "         analysis=TextBlob(tweet.text) # here it will apply NLP\\\n",
    "         print(analysis.sentiment)\n",
    "         # now checking polarity only\n",
    "         if analysis.sentiment.polarity > 0:\n",
    "            print(\"positive\")\n",
    "            pos_count = pos_count+1\n",
    "         elif analysis.sentiment[0]<0:\n",
    "            print(\"negative\")\n",
    "            neg_count = neg_count+1\n",
    "         else :\n",
    "            print(\"Neutral\")\n",
    "         csv_writer = csv.DictWriter(csv_file, fieldnames=opinion)\n",
    "         info = {\n",
    "                  \"pos\": pos,\n",
    "                  \"neg\": neg,\n",
    "                  \"pos_count\":pos_count,\n",
    "                  \"neg_count\":neg_count\n",
    "                  }\n",
    "         csv_writer.writerow(info)\n",
    "         print(pos_count, neg_count)\n",
    "         time.sleep(0.5)"
   ]
  }
 ],
 "metadata": {
  "interpreter": {
   "hash": "916dbcbb3f70747c44a77c7bcd40155683ae19c65e1c03b4aa3499c5328201f1"
  },
  "kernelspec": {
   "display_name": "Python 3.8.10 64-bit",
   "name": "python3"
  },
  "language_info": {
   "name": "python",
   "version": ""
  },
  "orig_nbformat": 4
 },
 "nbformat": 4,
 "nbformat_minor": 2
}