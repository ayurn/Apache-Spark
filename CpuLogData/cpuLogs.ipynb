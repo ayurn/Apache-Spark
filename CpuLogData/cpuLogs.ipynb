{
 "cells": [
  {
   "cell_type": "code",
   "execution_count": null,
   "metadata": {},
   "outputs": [],
   "source": [
    "'''\n",
    "@Author: Ayur Ninawe\n",
    "@Date: 2021-08-18\n",
    "@Last Modified by: Ayur Ninawe\n",
    "@Last Modified time: 18:00:47 2021-08-19\n",
    "@Title : write a program to 1) Display users and their record counts\n",
    "                            2) Finding users with highest number of average hours\n",
    "                            3) Finding users with lowest number of average hours\n",
    "                            4) Finding users with highest numbers of idle hours\n",
    "'''"
   ]
  },
  {
   "cell_type": "code",
   "execution_count": 1,
   "metadata": {},
   "outputs": [
    {
     "name": "stderr",
     "output_type": "stream",
     "text": [
      "21/08/19 12:12:16 WARN Utils: Your hostname, AyurUbuntu resolves to a loopback address: 127.0.0.1, but we couldn't find any external IP address!\n",
      "21/08/19 12:12:16 WARN Utils: Set SPARK_LOCAL_IP if you need to bind to another address\n",
      "21/08/19 12:12:18 WARN NativeCodeLoader: Unable to load native-hadoop library for your platform... using builtin-java classes where applicable\n",
      "Using Spark's default log4j profile: org/apache/spark/log4j-defaults.properties\n",
      "Setting default log level to \"WARN\".\n",
      "To adjust logging level use sc.setLogLevel(newLevel). For SparkR, use setLogLevel(newLevel).\n",
      "21/08/19 12:12:21 WARN MacAddressUtil: Failed to find a usable hardware address from the network interfaces; using random bytes: 10:2d:95:86:2a:ba:1a:f7\n",
      "21/08/19 12:12:24 WARN Utils: Service 'SparkUI' could not bind on port 4040. Attempting port 4041.\n"
     ]
    }
   ],
   "source": [
    "import findspark\n",
    "findspark.init()\n",
    "import pyspark\n",
    "from pyspark.sql import SparkSession,SQLContext\n",
    "from pyspark.sql.functions import *\n",
    "\n",
    "\n",
    "spark = SparkSession.builder.master(\"local\").appName('operations').getOrCreate()\n",
    "sc=spark.sparkContext\n",
    "from pyspark.sql import *\n",
    "from pyspark.sql.functions import col, max as max_, min as min_, unix_timestamp\n"
   ]
  },
  {
   "cell_type": "code",
   "execution_count": 3,
   "metadata": {},
   "outputs": [
    {
     "name": "stderr",
     "output_type": "stream",
     "text": []
    }
   ],
   "source": [
    "file_data_df = spark.read.format(\"csv\").option(\"header\", \"true\").load(\"hdfs://localhost:9000/sparkData/CpuLogs/*.csv\")"
   ]
  },
  {
   "cell_type": "code",
   "execution_count": 4,
   "metadata": {},
   "outputs": [
    {
     "name": "stderr",
     "output_type": "stream",
     "text": [
      "21/08/19 12:13:24 WARN package: Truncated the string representation of a plan since it was too large. This behavior can be adjusted by setting 'spark.sql.debug.maxToStringFields'.\n"
     ]
    }
   ],
   "source": [
    "df = file_data_df.select(\"DateTime\", \"keyboard\",\"mouse\",\"user_name\")\n",
    "temp_table_name = \"CpuLogs\"\n",
    "df.createOrReplaceTempView(temp_table_name)"
   ]
  },
  {
   "cell_type": "markdown",
   "metadata": {},
   "source": [
    "Total number of count for users."
   ]
  },
  {
   "cell_type": "code",
   "execution_count": 6,
   "metadata": {},
   "outputs": [],
   "source": [
    "user_counts = spark.sql(\"SELECT user_name, count(*) AS count FROM CpuLogs GROUP BY user_name;\")"
   ]
  },
  {
   "cell_type": "code",
   "execution_count": 7,
   "metadata": {},
   "outputs": [
    {
     "name": "stderr",
     "output_type": "stream",
     "text": []
    },
    {
     "name": "stdout",
     "output_type": "stream",
     "text": [
      "+--------------------+-----+\n",
      "|           user_name|count|\n",
      "+--------------------+-----+\n",
      "|salinabodale73@gm...|  569|\n",
      "|sharlawar77@gmail...|  580|\n",
      "|rahilstar11@gmail...|  551|\n",
      "|deepshukla292@gma...|  565|\n",
      "|  iamnzm@outlook.com|  614|\n",
      "|markfernandes66@g...|  508|\n",
      "|damodharn21@gmail...|  253|\n",
      "|bhagyashrichalke2...|  482|\n",
      "+--------------------+-----+\n",
      "\n"
     ]
    },
    {
     "name": "stderr",
     "output_type": "stream",
     "text": []
    }
   ],
   "source": [
    "user_counts.show()"
   ]
  },
  {
   "cell_type": "markdown",
   "metadata": {},
   "source": [
    "Query gor getting user active count"
   ]
  },
  {
   "cell_type": "code",
   "execution_count": 10,
   "metadata": {},
   "outputs": [],
   "source": [
    "avg_hr_df= spark.sql(\"select user_name ,count('') as total from CpuLogs where keyboard !=0 or mouse!=0 group by user_name\")"
   ]
  },
  {
   "cell_type": "code",
   "execution_count": 11,
   "metadata": {},
   "outputs": [
    {
     "name": "stdout",
     "output_type": "stream",
     "text": [
      "+--------------------+-----+\n",
      "|           user_name|total|\n",
      "+--------------------+-----+\n",
      "|salinabodale73@gm...|  436|\n",
      "|sharlawar77@gmail...|  457|\n",
      "|rahilstar11@gmail...|  399|\n",
      "|deepshukla292@gma...|  475|\n",
      "|  iamnzm@outlook.com|  459|\n",
      "|markfernandes66@g...|  389|\n",
      "|damodharn21@gmail...|  191|\n",
      "|bhagyashrichalke2...|  361|\n",
      "+--------------------+-----+\n",
      "\n"
     ]
    }
   ],
   "source": [
    "avg_hr_df.show()"
   ]
  },
  {
   "cell_type": "markdown",
   "metadata": {},
   "source": [
    "Creating temp view"
   ]
  },
  {
   "cell_type": "code",
   "execution_count": 12,
   "metadata": {},
   "outputs": [],
   "source": [
    "avg_hr_df.createOrReplaceTempView(\"avg_hr\")"
   ]
  },
  {
   "cell_type": "markdown",
   "metadata": {},
   "source": [
    "Query to get avg seconds of work for each person"
   ]
  },
  {
   "cell_type": "code",
   "execution_count": 17,
   "metadata": {},
   "outputs": [],
   "source": [
    "hrs_df=spark.sql(\"select user_name, ((((total-1)*5)*60)/6) as avg_hrs from avg_hr\")"
   ]
  },
  {
   "cell_type": "code",
   "execution_count": 20,
   "metadata": {},
   "outputs": [
    {
     "name": "stdout",
     "output_type": "stream",
     "text": [
      "+--------------------+-------+\n",
      "|           user_name|avg_hrs|\n",
      "+--------------------+-------+\n",
      "|salinabodale73@gm...|21750.0|\n",
      "|sharlawar77@gmail...|22800.0|\n",
      "|rahilstar11@gmail...|19900.0|\n",
      "|deepshukla292@gma...|23700.0|\n",
      "|  iamnzm@outlook.com|22900.0|\n",
      "|markfernandes66@g...|19400.0|\n",
      "|damodharn21@gmail...| 9500.0|\n",
      "|bhagyashrichalke2...|18000.0|\n",
      "+--------------------+-------+\n",
      "\n"
     ]
    }
   ],
   "source": [
    "hrs_df.show()"
   ]
  },
  {
   "cell_type": "markdown",
   "metadata": {},
   "source": [
    "Converting seconds into hrs and displaying highest avg hrs"
   ]
  },
  {
   "cell_type": "code",
   "execution_count": 55,
   "metadata": {},
   "outputs": [],
   "source": [
    "final_avg_hr=hrs_df.withColumn(\"Minutes\", round((col(\"avg_hrs\")/60),2))\\\n",
    ".withColumn(\"Hours\", floor((col(\"Minutes\")/60)))\\\n",
    ".withColumn(\"hourmin\", floor(col(\"Minutes\")-(col(\"Hours\").cast(\"int\") * 60)))\\\n",
    ".withColumn(\"Days\", floor((col(\"Hours\")/24)))\\\n",
    ".withColumn(\"Days2\", col(\"Days\")*24)\\\n",
    ".withColumn(\"Time\", when((col(\"Hours\")==0) &(col(\"Days\")==0), concat(col(\"hourmin\"),lit(\"min\"))).when((col(\"Hours\")!=0)&(col(\"Days\")==0), concat(col(\"Hours\"),lit(\"hr \"),col(\"hourmin\"),lit(\"min\"))).when(col(\"Days\")!=0, concat(col(\"Days\"),lit(\"d \"),(col(\"Hours\")-col(\"Days2\")),lit(\"hr \"),col(\"hourmin\"),lit(\"min\"))))\\\n",
    ".drop(\"Minutes\",\"Hours\",\"hourmin\",\"Days\",\"Days2\",\"avg_hrs\")\\\n",
    ".sort(desc(\"Time\"))"
   ]
  },
  {
   "cell_type": "code",
   "execution_count": 69,
   "metadata": {},
   "outputs": [
    {
     "data": {
      "text/plain": [
       "<bound method DataFrame.printSchema of DataFrame[user_name: string, Time: string]>"
      ]
     },
     "execution_count": 69,
     "metadata": {},
     "output_type": "execute_result"
    }
   ],
   "source": [
    "\n",
    "final_avg_hr.printSchema"
   ]
  },
  {
   "cell_type": "code",
   "execution_count": 56,
   "metadata": {},
   "outputs": [
    {
     "name": "stderr",
     "output_type": "stream",
     "text": []
    },
    {
     "name": "stdout",
     "output_type": "stream",
     "text": [
      "+--------------------+---------+\n",
      "|           user_name|     Time|\n",
      "+--------------------+---------+\n",
      "|deepshukla292@gma...|6hr 35min|\n",
      "|salinabodale73@gm...| 6hr 2min|\n",
      "|  iamnzm@outlook.com|6hr 21min|\n",
      "|sharlawar77@gmail...|6hr 20min|\n",
      "|rahilstar11@gmail...|5hr 31min|\n",
      "|markfernandes66@g...|5hr 23min|\n",
      "|bhagyashrichalke2...| 5hr 0min|\n",
      "|damodharn21@gmail...|2hr 38min|\n",
      "+--------------------+---------+\n",
      "\n"
     ]
    },
    {
     "name": "stderr",
     "output_type": "stream",
     "text": []
    }
   ],
   "source": [
    "final_avg_hr.show()"
   ]
  },
  {
   "cell_type": "markdown",
   "metadata": {},
   "source": [
    "Getting lowest average hours"
   ]
  },
  {
   "cell_type": "code",
   "execution_count": 23,
   "metadata": {},
   "outputs": [
    {
     "name": "stderr",
     "output_type": "stream",
     "text": []
    },
    {
     "name": "stdout",
     "output_type": "stream",
     "text": [
      "+--------------------+---------+\n",
      "|           user_name|     Time|\n",
      "+--------------------+---------+\n",
      "|damodharn21@gmail...|2hr 38min|\n",
      "|bhagyashrichalke2...| 5hr 0min|\n",
      "|markfernandes66@g...|5hr 23min|\n",
      "|rahilstar11@gmail...|5hr 31min|\n",
      "|sharlawar77@gmail...|6hr 20min|\n",
      "|  iamnzm@outlook.com|6hr 21min|\n",
      "|salinabodale73@gm...| 6hr 2min|\n",
      "|deepshukla292@gma...|6hr 35min|\n",
      "+--------------------+---------+\n",
      "\n"
     ]
    },
    {
     "name": "stderr",
     "output_type": "stream",
     "text": []
    }
   ],
   "source": [
    "final_avg_hr_lowest=hrs_df.withColumn(\"Minutes\", round((col(\"avg_hrs\")/60),2))\\\n",
    ".withColumn(\"Hours\", floor((col(\"Minutes\")/60)))\\\n",
    ".withColumn(\"hourmin\", floor(col(\"Minutes\")-(col(\"Hours\").cast(\"int\") * 60)))\\\n",
    ".withColumn(\"Days\", floor((col(\"Hours\")/24)))\\\n",
    ".withColumn(\"Days2\", col(\"Days\")*24)\\\n",
    ".withColumn(\"Time\", when((col(\"Hours\")==0) &(col(\"Days\")==0), concat(col(\"hourmin\"),lit(\"min\"))).when((col(\"Hours\")!=0)&(col(\"Days\")==0), concat(col(\"Hours\"),lit(\"hr \"),col(\"hourmin\"),lit(\"min\"))).when(col(\"Days\")!=0, concat(col(\"Days\"),lit(\"d \"),(col(\"Hours\")-col(\"Days2\")),lit(\"hr \"),col(\"hourmin\"),lit(\"min\"))))\\\n",
    ".drop(\"Minutes\",\"Hours\",\"hourmin\",\"Days\",\"Days2\",\"avg_hrs\")\\\n",
    ".sort(asc(\"Time\")).show()"
   ]
  },
  {
   "cell_type": "markdown",
   "metadata": {},
   "source": [
    "Counting Idle hours"
   ]
  },
  {
   "cell_type": "code",
   "execution_count": 25,
   "metadata": {},
   "outputs": [],
   "source": [
    "idle_count = spark.sql(\"select user_name, DateTime from CpuLogs where keyboard=0 and mouse=0\").groupBy(\"user_name\").count()"
   ]
  },
  {
   "cell_type": "markdown",
   "metadata": {},
   "source": [
    "counting total idle hour entries"
   ]
  },
  {
   "cell_type": "code",
   "execution_count": 26,
   "metadata": {},
   "outputs": [
    {
     "name": "stderr",
     "output_type": "stream",
     "text": []
    },
    {
     "name": "stdout",
     "output_type": "stream",
     "text": [
      "+--------------------+-----+\n",
      "|           user_name|count|\n",
      "+--------------------+-----+\n",
      "|damodharn21@gmail...|   62|\n",
      "|deepshukla292@gma...|   90|\n",
      "|markfernandes66@g...|  119|\n",
      "|bhagyashrichalke2...|  121|\n",
      "|sharlawar77@gmail...|  123|\n",
      "|salinabodale73@gm...|  133|\n",
      "|rahilstar11@gmail...|  152|\n",
      "|  iamnzm@outlook.com|  155|\n",
      "+--------------------+-----+\n",
      "\n"
     ]
    },
    {
     "name": "stderr",
     "output_type": "stream",
     "text": []
    }
   ],
   "source": [
    "idle_count.sort('count').show()"
   ]
  },
  {
   "cell_type": "markdown",
   "metadata": {},
   "source": [
    "Creating a temp view"
   ]
  },
  {
   "cell_type": "code",
   "execution_count": 27,
   "metadata": {},
   "outputs": [],
   "source": [
    "idle_count.createOrReplaceTempView(\"idle_time\")"
   ]
  },
  {
   "cell_type": "markdown",
   "metadata": {},
   "source": [
    "Counting avg seconds for idle hrs"
   ]
  },
  {
   "cell_type": "code",
   "execution_count": 28,
   "metadata": {},
   "outputs": [],
   "source": [
    "idle_df=spark.sql(\"select user_name, (((count-1)*5*60)/6) as idle_min from idle_time\")"
   ]
  },
  {
   "cell_type": "markdown",
   "metadata": {},
   "source": [
    "Converting seconds to hours"
   ]
  },
  {
   "cell_type": "code",
   "execution_count": 31,
   "metadata": {},
   "outputs": [
    {
     "name": "stderr",
     "output_type": "stream",
     "text": []
    },
    {
     "name": "stdout",
     "output_type": "stream",
     "text": [
      "+--------------------+---------+\n",
      "|           user_name| Idle_Hrs|\n",
      "+--------------------+---------+\n",
      "|deepshukla292@gma...|1hr 14min|\n",
      "|markfernandes66@g...|1hr 38min|\n",
      "|bhagyashrichalke2...|1hr 40min|\n",
      "|sharlawar77@gmail...|1hr 41min|\n",
      "|salinabodale73@gm...|1hr 50min|\n",
      "|rahilstar11@gmail...| 2hr 5min|\n",
      "|  iamnzm@outlook.com| 2hr 8min|\n",
      "|damodharn21@gmail...|    50min|\n",
      "+--------------------+---------+\n",
      "\n"
     ]
    },
    {
     "name": "stderr",
     "output_type": "stream",
     "text": []
    }
   ],
   "source": [
    "idle_hrs=idle_df.withColumn(\"Minutes\", round((col(\"idle_min\")/60),2))\\\n",
    ".withColumn(\"Hours\", floor((col(\"Minutes\")/60)))\\\n",
    ".withColumn(\"hourmin\", floor(col(\"Minutes\")-(col(\"Hours\").cast(\"int\") * 60)))\\\n",
    ".withColumn(\"Days\", floor((col(\"Hours\")/24)))\\\n",
    ".withColumn(\"Days2\", col(\"Days\")*24)\\\n",
    ".withColumn(\"Idle_Hrs\", when((col(\"Hours\")==0) &(col(\"Days\")==0), concat(col(\"hourmin\"),lit(\"min\"))).when((col(\"Hours\")!=0)&(col(\"Days\")==0), concat(col(\"Hours\"),lit(\"hr \"),col(\"hourmin\"),lit(\"min\"))).when(col(\"Days\")!=0, concat(col(\"Days\"),lit(\"d \"),(col(\"Hours\")-col(\"Days2\")),lit(\"hr \"),col(\"hourmin\"),lit(\"min\"))))\\\n",
    ".drop(\"Minutes\",\"Hours\",\"hourmin\",\"Days\",\"Days2\",'idle_min')\\\n",
    ".sort(asc(\"Idle_Hrs\")).show()"
   ]
  },
  {
   "cell_type": "markdown",
   "metadata": {},
   "source": [
    "\n",
    "VISUALIZATION WITH MATPLOTLIB\n"
   ]
  },
  {
   "cell_type": "code",
   "execution_count": 32,
   "metadata": {},
   "outputs": [],
   "source": [
    "import pandas as pd\n",
    "import matplotlib.pyplot as plt"
   ]
  },
  {
   "cell_type": "markdown",
   "metadata": {},
   "source": [
    "Convertiing pyspark DF to pandas DF"
   ]
  },
  {
   "cell_type": "code",
   "execution_count": 35,
   "metadata": {},
   "outputs": [
    {
     "name": "stderr",
     "output_type": "stream",
     "text": []
    }
   ],
   "source": [
    "puser_count = user_counts.toPandas()"
   ]
  },
  {
   "cell_type": "markdown",
   "metadata": {},
   "source": [
    "plotting total number of users "
   ]
  },
  {
   "cell_type": "code",
   "execution_count": 44,
   "metadata": {},
   "outputs": [
    {
     "data": {
      "text/plain": [
       "<AxesSubplot:ylabel='count'>"
      ]
     },
     "execution_count": 44,
     "metadata": {},
     "output_type": "execute_result"
    },
    {
     "data": {
      "image/png": "[encoded data removed]",
      "text/plain": [
       "<Figure size 432x288 with 1 Axes>"
      ]
     },
     "metadata": {},
     "output_type": "display_data"
    }
   ],
   "source": [
    "puser_count.plot(kind='pie',x='user_name',y='count',colormap='Paired_r', autopct='%1.1f%%', shadow=True)\n"
   ]
  },
  {
   "cell_type": "code",
   "execution_count": 47,
   "metadata": {},
   "outputs": [
    {
     "data": {
      "text/plain": [
       "<AxesSubplot:xlabel='user_name'>"
      ]
     },
     "execution_count": 47,
     "metadata": {},
     "output_type": "execute_result"
    },
    {
     "data": {
      "image/png": "[encoded data removed]",
      "text/plain": [
       "<Figure size 432x288 with 1 Axes>"
      ]
     },
     "metadata": {
      "needs_background": "light"
     },
     "output_type": "display_data"
    }
   ],
   "source": [
    "puser_count.plot(kind='bar',x='user_name',y='count',colormap='Paired_r')\n"
   ]
  },
  {
   "cell_type": "markdown",
   "metadata": {},
   "source": [
    "Plotting highest averahe work hours\n"
   ]
  },
  {
   "cell_type": "code",
   "execution_count": 63,
   "metadata": {},
   "outputs": [
    {
     "name": "stderr",
     "output_type": "stream",
     "text": []
    }
   ],
   "source": [
    "#converting to pandas DF\n",
    "p_avg = hrs_df.toPandas()"
   ]
  },
  {
   "cell_type": "code",
   "execution_count": 64,
   "metadata": {},
   "outputs": [
    {
     "data": {
      "text/plain": [
       "<AxesSubplot:ylabel='avg_hrs'>"
      ]
     },
     "execution_count": 64,
     "metadata": {},
     "output_type": "execute_result"
    },
    {
     "data": {
      "image/png": "[encoded data removed]",
      "text/plain": [
       "<Figure size 432x288 with 1 Axes>"
      ]
     },
     "metadata": {},
     "output_type": "display_data"
    }
   ],
   "source": [
    "p_avg.plot(kind='pie',x='user_name',y='avg_hrs',colormap='Paired_r', autopct='%1.1f%%', shadow=True)\n"
   ]
  },
  {
   "cell_type": "code",
   "execution_count": 76,
   "metadata": {},
   "outputs": [],
   "source": [
    "username= p_avg['user_name']\n",
    "avg_sec=p_avg['avg_hrs']"
   ]
  },
  {
   "cell_type": "code",
   "execution_count": 80,
   "metadata": {},
   "outputs": [
    {
     "data": {
      "text/plain": [
       "<AxesSubplot:xlabel='user_name'>"
      ]
     },
     "execution_count": 80,
     "metadata": {},
     "output_type": "execute_result"
    },
    {
     "data": {
      "image/png": "[encoded data removed]",
      "text/plain": [
       "<Figure size 432x288 with 1 Axes>"
      ]
     },
     "metadata": {
      "needs_background": "light"
     },
     "output_type": "display_data"
    }
   ],
   "source": [
    "p_avg.plot(kind='bar',x='user_name',y='avg_hrs', colormap='Paired_r')\n"
   ]
  },
  {
   "cell_type": "markdown",
   "metadata": {},
   "source": [
    "Plot for idle "
   ]
  },
  {
   "cell_type": "code",
   "execution_count": 81,
   "metadata": {},
   "outputs": [
    {
     "name": "stderr",
     "output_type": "stream",
     "text": []
    }
   ],
   "source": [
    "idle = idle_count.toPandas()"
   ]
  },
  {
   "cell_type": "code",
   "execution_count": 83,
   "metadata": {},
   "outputs": [
    {
     "data": {
      "text/plain": [
       "<AxesSubplot:ylabel='count'>"
      ]
     },
     "execution_count": 83,
     "metadata": {},
     "output_type": "execute_result"
    },
    {
     "data": {
      "image/png": "[encoded data removed]",
      "text/plain": [
       "<Figure size 432x288 with 1 Axes>"
      ]
     },
     "metadata": {},
     "output_type": "display_data"
    }
   ],
   "source": [
    "idle.plot(kind='pie',x='user_name',y='count',colormap='Paired_r', autopct='%1.1f%%', shadow=True)\n"
   ]
  },
  {
   "cell_type": "code",
   "execution_count": 84,
   "metadata": {},
   "outputs": [
    {
     "data": {
      "text/plain": [
       "<AxesSubplot:xlabel='user_name'>"
      ]
     },
     "execution_count": 84,
     "metadata": {},
     "output_type": "execute_result"
    },
    {
     "data": {
      "image/png": "[encoded data removed]",
      "text/plain": [
       "<Figure size 432x288 with 1 Axes>"
      ]
     },
     "metadata": {
      "needs_background": "light"
     },
     "output_type": "display_data"
    }
   ],
   "source": [
    "idle.plot(kind='bar',x='user_name',y='count', colormap='Paired_r')\n"
   ]
  },
  {
   "cell_type": "code",
   "execution_count": null,
   "metadata": {},
   "outputs": [],
   "source": []
  }
 ],
 "metadata": {
  "interpreter": {
   "hash": "916dbcbb3f70747c44a77c7bcd40155683ae19c65e1c03b4aa3499c5328201f1"
  },
  "kernelspec": {
   "display_name": "Python 3.8.10 64-bit",
   "name": "python3"
  },
  "language_info": {
   "name": "python",
   "version": ""
  },
  "orig_nbformat": 4
 },
 "nbformat": 4,
 "nbformat_minor": 2
}