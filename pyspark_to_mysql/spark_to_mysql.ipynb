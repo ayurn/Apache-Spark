{
 "cells": [
  {
   "cell_type": "code",
   "execution_count": 20,
   "metadata": {},
   "outputs": [],
   "source": [
    "import findspark\n",
    "findspark.init()\n",
    "\n",
    "import os\n",
    "from pyspark.sql import SparkSession,SQLContext\n",
    "from pyspark.sql.functions import *\n",
    "\n",
    "\n",
    "spark = SparkSession.builder.master(\"local\").appName('operations').getOrCreate()\n",
    "sc=spark.sparkContext\n",
    "from pyspark.sql import *\n",
    "from pyspark.sql.functions import col, max as max_, min as min_, unix_timestamp\n"
   ]
  },
  {
   "cell_type": "code",
   "execution_count": 2,
   "metadata": {},
   "outputs": [],
   "source": [
    "from pyspark.sql.functions import *\n",
    "from pyspark.sql.types import *\n"
   ]
  },
  {
   "cell_type": "code",
   "execution_count": 3,
   "metadata": {},
   "outputs": [
    {
     "name": "stderr",
     "output_type": "stream",
     "text": []
    }
   ],
   "source": [
    "file_data_df = spark.read.format(\"csv\").option(\"header\", \"true\").load(\"hdfs://localhost:9000/sparkData/CpuLogs/*.csv\")"
   ]
  },
  {
   "cell_type": "code",
   "execution_count": 5,
   "metadata": {},
   "outputs": [],
   "source": [
    "df = file_data_df.select(\"DateTime\", \"keyboard\",\"mouse\",\"user_name\")\n",
    "temp_table_name = \"CpuLogs\"\n",
    "df.createOrReplaceTempView(temp_table_name)"
   ]
  },
  {
   "cell_type": "code",
   "execution_count": 6,
   "metadata": {},
   "outputs": [],
   "source": [
    "user_counts = spark.sql(\"SELECT user_name, count(*) AS count FROM CpuLogs GROUP BY user_name;\")"
   ]
  },
  {
   "cell_type": "code",
   "execution_count": 7,
   "metadata": {},
   "outputs": [
    {
     "name": "stderr",
     "output_type": "stream",
     "text": []
    },
    {
     "name": "stdout",
     "output_type": "stream",
     "text": [
      "+--------------------+-----+\n",
      "|           user_name|count|\n",
      "+--------------------+-----+\n",
      "|salinabodale73@gm...|  569|\n",
      "|sharlawar77@gmail...|  580|\n",
      "|rahilstar11@gmail...|  551|\n",
      "|deepshukla292@gma...|  565|\n",
      "|  iamnzm@outlook.com|  614|\n",
      "|markfernandes66@g...|  508|\n",
      "|damodharn21@gmail...|  253|\n",
      "|bhagyashrichalke2...|  482|\n",
      "+--------------------+-----+\n",
      "\n"
     ]
    },
    {
     "name": "stderr",
     "output_type": "stream",
     "text": []
    }
   ],
   "source": [
    "user_counts.show()"
   ]
  },
  {
   "cell_type": "code",
   "execution_count": null,
   "metadata": {},
   "outputs": [],
   "source": [
    "type(user_counts)"
   ]
  },
  {
   "cell_type": "markdown",
   "metadata": {},
   "source": [
    "Putting created output to hdfs"
   ]
  },
  {
   "cell_type": "code",
   "execution_count": null,
   "metadata": {},
   "outputs": [],
   "source": [
    "user_counts.repartition(1).write.save('hdfs://localhost:9000/sparkData/MySql_operations', format='csv', mode='append')"
   ]
  },
  {
   "cell_type": "markdown",
   "metadata": {},
   "source": [
    "ceating schema for importing data from hdfs"
   ]
  },
  {
   "cell_type": "code",
   "execution_count": 8,
   "metadata": {},
   "outputs": [],
   "source": [
    "schema = StructType([\\\n",
    "    StructField(\"user_name\", StringType(), True),\\\n",
    "    StructField(\"count\", IntegerType(), True)])"
   ]
  },
  {
   "cell_type": "markdown",
   "metadata": {},
   "source": [
    "Importing data from hdfs to spark dataframe"
   ]
  },
  {
   "cell_type": "code",
   "execution_count": 9,
   "metadata": {},
   "outputs": [],
   "source": [
    "count_df = spark.read.format(\"csv\").option(\"header\", \"false\").schema(schema).load(\"hdfs://localhost:9000/sparkData/MySql_operations/part-00000-ef648781-639e-4993-9528-42795999c2f8-c000.csv\")"
   ]
  },
  {
   "cell_type": "markdown",
   "metadata": {},
   "source": [
    "setting mysql data\n"
   ]
  },
  {
   "cell_type": "code",
   "execution_count": 25,
   "metadata": {},
   "outputs": [],
   "source": [
    "database = 'sparkOperations'\n",
    "user = 'root'\n",
    "password = 'Ayurn@6299'"
   ]
  },
  {
   "cell_type": "markdown",
   "metadata": {},
   "source": [
    "saving spark dataframe to MySql table"
   ]
  },
  {
   "cell_type": "code",
   "execution_count": 27,
   "metadata": {},
   "outputs": [
    {
     "name": "stderr",
     "output_type": "stream",
     "text": []
    }
   ],
   "source": [
    "jdbc_url = f\"jdbc:mysql://localhost:3306/\"+ database\n",
    "\n",
    "count_df.write.format('jdbc').option(\"url\",jdbc_url) \\\n",
    "    .mode(\"overwrite\") \\\n",
    "    .option(\"dbtable\",\"total_user_count\") \\\n",
    "    .option(\"driver\",\"com.mysql.jdbc.Driver\") \\\n",
    "    .option(\"user\",user).option(\"password\",password).save()\n",
    "    \n"
   ]
  },
  {
   "cell_type": "markdown",
   "metadata": {},
   "source": [
    "loading data from mysql table to spark dataframe"
   ]
  },
  {
   "cell_type": "code",
   "execution_count": 28,
   "metadata": {},
   "outputs": [],
   "source": [
    "df_COUNT = spark.read.format(\"jdbc\") \\\n",
    "    .option(\"url\",\"jdbc:mysql://localhost:3306/sparkOperations\") \\\n",
    "    .option(\"driver\",\"com.mysql.jdbc.Driver\") \\\n",
    "    .option(\"dbtable\",\"total_user_count\") \\\n",
    "    .option(\"user\",user) \\\n",
    "    .option(\"password\",password).load()"
   ]
  },
  {
   "cell_type": "code",
   "execution_count": 29,
   "metadata": {},
   "outputs": [
    {
     "name": "stderr",
     "output_type": "stream",
     "text": []
    },
    {
     "name": "stdout",
     "output_type": "stream",
     "text": [
      "+--------------------+-----+\n",
      "|           user_name|count|\n",
      "+--------------------+-----+\n",
      "|salinabodale73@gm...|  569|\n",
      "|sharlawar77@gmail...|  580|\n",
      "|rahilstar11@gmail...|  551|\n",
      "|deepshukla292@gma...|  565|\n",
      "|  iamnzm@outlook.com|  614|\n",
      "|markfernandes66@g...|  508|\n",
      "|damodharn21@gmail...|  253|\n",
      "|bhagyashrichalke2...|  482|\n",
      "+--------------------+-----+\n",
      "\n"
     ]
    },
    {
     "name": "stderr",
     "output_type": "stream",
     "text": []
    }
   ],
   "source": [
    "df_COUNT.show()"
   ]
  },
  {
   "cell_type": "markdown",
   "metadata": {},
   "source": [
    "Finding users with highest number of average hours"
   ]
  },
  {
   "cell_type": "code",
   "execution_count": 30,
   "metadata": {},
   "outputs": [],
   "source": [
    "avg_hr_df= spark.sql(\"select user_name ,count('') as total from CpuLogs where keyboard !=0 or mouse!=0 group by user_name\")\n",
    "avg_hr_df.createOrReplaceTempView(\"avg_hr\")\n",
    "hrs_df=spark.sql(\"select user_name, ((((total-1)*5)*60)/6) as avg_hrs from avg_hr\")\n",
    "final_avg_hr=hrs_df.withColumn(\"Minutes\", round((col(\"avg_hrs\")/60),2))\\\n",
    ".withColumn(\"Hours\", floor((col(\"Minutes\")/60)))\\\n",
    ".withColumn(\"hourmin\", floor(col(\"Minutes\")-(col(\"Hours\").cast(\"int\") * 60)))\\\n",
    ".withColumn(\"Days\", floor((col(\"Hours\")/24)))\\\n",
    ".withColumn(\"Days2\", col(\"Days\")*24)\\\n",
    ".withColumn(\"Time\", when((col(\"Hours\")==0) &(col(\"Days\")==0), concat(col(\"hourmin\"),lit(\"min\"))).when((col(\"Hours\")!=0)&(col(\"Days\")==0), concat(col(\"Hours\"),lit(\"hr \"),col(\"hourmin\"),lit(\"min\"))).when(col(\"Days\")!=0, concat(col(\"Days\"),lit(\"d \"),(col(\"Hours\")-col(\"Days2\")),lit(\"hr \"),col(\"hourmin\"),lit(\"min\"))))\\\n",
    ".drop(\"Minutes\",\"Hours\",\"hourmin\",\"Days\",\"Days2\",\"avg_hrs\")\\\n",
    ".sort(desc(\"Time\"))"
   ]
  },
  {
   "cell_type": "code",
   "execution_count": 31,
   "metadata": {},
   "outputs": [
    {
     "name": "stderr",
     "output_type": "stream",
     "text": []
    },
    {
     "name": "stdout",
     "output_type": "stream",
     "text": [
      "+--------------------+---------+\n",
      "|           user_name|     Time|\n",
      "+--------------------+---------+\n",
      "|deepshukla292@gma...|6hr 35min|\n",
      "|salinabodale73@gm...| 6hr 2min|\n",
      "|  iamnzm@outlook.com|6hr 21min|\n",
      "|sharlawar77@gmail...|6hr 20min|\n",
      "|rahilstar11@gmail...|5hr 31min|\n",
      "|markfernandes66@g...|5hr 23min|\n",
      "|bhagyashrichalke2...| 5hr 0min|\n",
      "|damodharn21@gmail...|2hr 38min|\n",
      "+--------------------+---------+\n",
      "\n"
     ]
    },
    {
     "name": "stderr",
     "output_type": "stream",
     "text": []
    }
   ],
   "source": [
    "final_avg_hr.show()"
   ]
  },
  {
   "cell_type": "markdown",
   "metadata": {},
   "source": [
    "saving data to hdfs from spark dataframe"
   ]
  },
  {
   "cell_type": "code",
   "execution_count": 34,
   "metadata": {},
   "outputs": [
    {
     "name": "stderr",
     "output_type": "stream",
     "text": []
    }
   ],
   "source": [
    "final_avg_hr.repartition(1).write.save('hdfs://localhost:9000/sparkData/MySql_operations', format='csv', mode='append')"
   ]
  },
  {
   "cell_type": "markdown",
   "metadata": {},
   "source": [
    "ceating schema for importing data from hdfs"
   ]
  },
  {
   "cell_type": "code",
   "execution_count": 36,
   "metadata": {},
   "outputs": [],
   "source": [
    "schema_high = StructType([\\\n",
    "    StructField(\"user_name\", StringType(), True),\\\n",
    "    StructField(\"highest_avg_hr\", StringType(), True)])"
   ]
  },
  {
   "cell_type": "markdown",
   "metadata": {},
   "source": [
    "Importing data from hdfs to spark dataframe"
   ]
  },
  {
   "cell_type": "code",
   "execution_count": 37,
   "metadata": {},
   "outputs": [],
   "source": [
    "highest_avg_df = spark.read.format(\"csv\").option(\"header\", \"false\").schema(schema_high).load(\"hdfs://localhost:9000/sparkData/MySql_operations/part-00000-813ce953-699a-4802-bcc2-b46ae771a04c-c000.csv\")"
   ]
  },
  {
   "cell_type": "markdown",
   "metadata": {},
   "source": [
    "saving spark dataframe to MySql table"
   ]
  },
  {
   "cell_type": "code",
   "execution_count": 38,
   "metadata": {},
   "outputs": [
    {
     "name": "stderr",
     "output_type": "stream",
     "text": []
    }
   ],
   "source": [
    "highest_avg_df.write.format('jdbc').option(\"url\",jdbc_url) \\\n",
    "    .mode(\"overwrite\") \\\n",
    "    .option(\"dbtable\",\"highest_avg_time\") \\\n",
    "    .option(\"driver\",\"com.mysql.jdbc.Driver\") \\\n",
    "    .option(\"user\",user).option(\"password\",password).save()\n",
    "    "
   ]
  },
  {
   "cell_type": "markdown",
   "metadata": {},
   "source": [
    "loading data from mysql table to spark dataframe"
   ]
  },
  {
   "cell_type": "code",
   "execution_count": 39,
   "metadata": {},
   "outputs": [],
   "source": [
    "df_highest_avg = spark.read.format(\"jdbc\") \\\n",
    "    .option(\"url\",\"jdbc:mysql://localhost:3306/sparkOperations\") \\\n",
    "    .option(\"driver\",\"com.mysql.jdbc.Driver\") \\\n",
    "    .option(\"dbtable\",\"highest_avg_time\") \\\n",
    "    .option(\"user\",user) \\\n",
    "    .option(\"password\",password).load()"
   ]
  },
  {
   "cell_type": "code",
   "execution_count": 40,
   "metadata": {},
   "outputs": [
    {
     "name": "stdout",
     "output_type": "stream",
     "text": [
      "+--------------------+--------------+\n",
      "|           user_name|highest_avg_hr|\n",
      "+--------------------+--------------+\n",
      "|deepshukla292@gma...|     6hr 35min|\n",
      "|salinabodale73@gm...|      6hr 2min|\n",
      "|  iamnzm@outlook.com|     6hr 21min|\n",
      "|sharlawar77@gmail...|     6hr 20min|\n",
      "|rahilstar11@gmail...|     5hr 31min|\n",
      "|markfernandes66@g...|     5hr 23min|\n",
      "|bhagyashrichalke2...|      5hr 0min|\n",
      "|damodharn21@gmail...|     2hr 38min|\n",
      "+--------------------+--------------+\n",
      "\n"
     ]
    }
   ],
   "source": [
    "df_highest_avg.show()"
   ]
  },
  {
   "cell_type": "markdown",
   "metadata": {},
   "source": [
    "Finding users with lowest number of average hours"
   ]
  },
  {
   "cell_type": "code",
   "execution_count": 41,
   "metadata": {},
   "outputs": [],
   "source": [
    "final_avg_hr_lowest=hrs_df.withColumn(\"Minutes\", round((col(\"avg_hrs\")/60),2))\\\n",
    ".withColumn(\"Hours\", floor((col(\"Minutes\")/60)))\\\n",
    ".withColumn(\"hourmin\", floor(col(\"Minutes\")-(col(\"Hours\").cast(\"int\") * 60)))\\\n",
    ".withColumn(\"Days\", floor((col(\"Hours\")/24)))\\\n",
    ".withColumn(\"Days2\", col(\"Days\")*24)\\\n",
    ".withColumn(\"Time\", when((col(\"Hours\")==0) &(col(\"Days\")==0), concat(col(\"hourmin\"),lit(\"min\"))).when((col(\"Hours\")!=0)&(col(\"Days\")==0), concat(col(\"Hours\"),lit(\"hr \"),col(\"hourmin\"),lit(\"min\"))).when(col(\"Days\")!=0, concat(col(\"Days\"),lit(\"d \"),(col(\"Hours\")-col(\"Days2\")),lit(\"hr \"),col(\"hourmin\"),lit(\"min\"))))\\\n",
    ".drop(\"Minutes\",\"Hours\",\"hourmin\",\"Days\",\"Days2\",\"avg_hrs\")\\\n",
    ".sort(asc(\"Time\"))"
   ]
  },
  {
   "cell_type": "markdown",
   "metadata": {},
   "source": [
    "saving data to hdfs from spark dataframe"
   ]
  },
  {
   "cell_type": "code",
   "execution_count": 42,
   "metadata": {},
   "outputs": [
    {
     "name": "stderr",
     "output_type": "stream",
     "text": []
    }
   ],
   "source": [
    "final_avg_hr_lowest.repartition(1).write.save('hdfs://localhost:9000/sparkData/MySql_operations', format='csv', mode='append')"
   ]
  },
  {
   "cell_type": "markdown",
   "metadata": {},
   "source": [
    "ceating schema for importing data from hdfs"
   ]
  },
  {
   "cell_type": "code",
   "execution_count": 43,
   "metadata": {},
   "outputs": [],
   "source": [
    "schema_low = StructType([\\\n",
    "    StructField(\"user_name\", StringType(), True),\\\n",
    "    StructField(\"lowest_avg_hr\", StringType(), True)])"
   ]
  },
  {
   "cell_type": "markdown",
   "metadata": {},
   "source": [
    "Importing data from hdfs to spark dataframe"
   ]
  },
  {
   "cell_type": "code",
   "execution_count": 47,
   "metadata": {},
   "outputs": [],
   "source": [
    "lowest_avg_df = spark.read.format(\"csv\").option(\"header\", \"false\").schema(schema_low).load(\"hdfs://localhost:9000/sparkData/MySql_operations/part-00000-fba753d3-2712-446c-ba08-d511a326bc1d-c000.csv\")"
   ]
  },
  {
   "cell_type": "markdown",
   "metadata": {},
   "source": [
    "saving spark dataframe to MySql table"
   ]
  },
  {
   "cell_type": "code",
   "execution_count": 48,
   "metadata": {},
   "outputs": [],
   "source": [
    "lowest_avg_df.write.format('jdbc').option(\"url\",jdbc_url) \\\n",
    "    .mode(\"overwrite\") \\\n",
    "    .option(\"dbtable\",\"lowest_avg_time\") \\\n",
    "    .option(\"driver\",\"com.mysql.jdbc.Driver\") \\\n",
    "    .option(\"user\",user).option(\"password\",password).save()\n",
    "    "
   ]
  },
  {
   "cell_type": "markdown",
   "metadata": {},
   "source": [
    "loading data from mysql table to spark dataframe"
   ]
  },
  {
   "cell_type": "code",
   "execution_count": 51,
   "metadata": {},
   "outputs": [],
   "source": [
    "df_lowest_avg = spark.read.format(\"jdbc\") \\\n",
    "    .option(\"url\",\"jdbc:mysql://localhost:3306/sparkOperations\") \\\n",
    "    .option(\"driver\",\"com.mysql.jdbc.Driver\") \\\n",
    "    .option(\"dbtable\",\"lowest_avg_time\") \\\n",
    "    .option(\"user\",user) \\\n",
    "    .option(\"password\",password).load()"
   ]
  },
  {
   "cell_type": "code",
   "execution_count": 52,
   "metadata": {},
   "outputs": [
    {
     "name": "stdout",
     "output_type": "stream",
     "text": [
      "+--------------------+-------------+\n",
      "|           user_name|lowest_avg_hr|\n",
      "+--------------------+-------------+\n",
      "|damodharn21@gmail...|    2hr 38min|\n",
      "|bhagyashrichalke2...|     5hr 0min|\n",
      "|markfernandes66@g...|    5hr 23min|\n",
      "|rahilstar11@gmail...|    5hr 31min|\n",
      "|sharlawar77@gmail...|    6hr 20min|\n",
      "|  iamnzm@outlook.com|    6hr 21min|\n",
      "|salinabodale73@gm...|     6hr 2min|\n",
      "|deepshukla292@gma...|    6hr 35min|\n",
      "+--------------------+-------------+\n",
      "\n"
     ]
    }
   ],
   "source": [
    "df_lowest_avg.show()"
   ]
  },
  {
   "cell_type": "markdown",
   "metadata": {},
   "source": [
    "Finding users with highest numbers of idle hours"
   ]
  },
  {
   "cell_type": "code",
   "execution_count": 54,
   "metadata": {},
   "outputs": [],
   "source": [
    "idle_count = spark.sql(\"select user_name, DateTime from CpuLogs where keyboard=0 and mouse=0\").groupBy(\"user_name\").count()\n",
    "idle_count.createOrReplaceTempView(\"idle_time\")\n",
    "idle_df=spark.sql(\"select user_name, (((count-1)*5*60)/6) as idle_min from idle_time\")\n",
    "idle_hrs=idle_df.withColumn(\"Minutes\", round((col(\"idle_min\")/60),2))\\\n",
    ".withColumn(\"Hours\", floor((col(\"Minutes\")/60)))\\\n",
    ".withColumn(\"hourmin\", floor(col(\"Minutes\")-(col(\"Hours\").cast(\"int\") * 60)))\\\n",
    ".withColumn(\"Days\", floor((col(\"Hours\")/24)))\\\n",
    ".withColumn(\"Days2\", col(\"Days\")*24)\\\n",
    ".withColumn(\"Idle_Hrs\", when((col(\"Hours\")==0) &(col(\"Days\")==0), concat(col(\"hourmin\"),lit(\"min\"))).when((col(\"Hours\")!=0)&(col(\"Days\")==0), concat(col(\"Hours\"),lit(\"hr \"),col(\"hourmin\"),lit(\"min\"))).when(col(\"Days\")!=0, concat(col(\"Days\"),lit(\"d \"),(col(\"Hours\")-col(\"Days2\")),lit(\"hr \"),col(\"hourmin\"),lit(\"min\"))))\\\n",
    ".drop(\"Minutes\",\"Hours\",\"hourmin\",\"Days\",\"Days2\",'idle_min')\\\n",
    ".sort(asc(\"Idle_Hrs\"))"
   ]
  },
  {
   "cell_type": "markdown",
   "metadata": {},
   "source": [
    "Putting created output to hdfs"
   ]
  },
  {
   "cell_type": "code",
   "execution_count": 55,
   "metadata": {},
   "outputs": [
    {
     "name": "stderr",
     "output_type": "stream",
     "text": []
    }
   ],
   "source": [
    "idle_hrs.repartition(1).write.save('hdfs://localhost:9000/sparkData/MySql_operations', format='csv', mode='append')"
   ]
  },
  {
   "cell_type": "markdown",
   "metadata": {},
   "source": [
    "ceating schema for importing data from hdfs"
   ]
  },
  {
   "cell_type": "code",
   "execution_count": 56,
   "metadata": {},
   "outputs": [],
   "source": [
    "schema_idle = StructType([\\\n",
    "    StructField(\"user_name\", StringType(), True),\\\n",
    "    StructField(\"idle_hr\", StringType(), True)])"
   ]
  },
  {
   "cell_type": "markdown",
   "metadata": {},
   "source": [
    "Importing data from hdfs to spark dataframe"
   ]
  },
  {
   "cell_type": "code",
   "execution_count": 58,
   "metadata": {},
   "outputs": [],
   "source": [
    "lowest_idle_hr = spark.read.format(\"csv\").option(\"header\", \"false\").schema(schema_idle).load(\"hdfs://localhost:9000/sparkData/MySql_operations/part-00000-4f11bd1a-ca64-4bbf-bf36-420565cfe753-c000.csv\")"
   ]
  },
  {
   "cell_type": "markdown",
   "metadata": {},
   "source": [
    "saving spark dataframe to MySql table"
   ]
  },
  {
   "cell_type": "code",
   "execution_count": 59,
   "metadata": {},
   "outputs": [
    {
     "name": "stderr",
     "output_type": "stream",
     "text": []
    }
   ],
   "source": [
    "lowest_idle_hr.write.format('jdbc').option(\"url\",jdbc_url) \\\n",
    "    .mode(\"overwrite\") \\\n",
    "    .option(\"dbtable\",\"lowest_idle_hr\") \\\n",
    "    .option(\"driver\",\"com.mysql.jdbc.Driver\") \\\n",
    "    .option(\"user\",user).option(\"password\",password).save()\n",
    "    "
   ]
  },
  {
   "cell_type": "markdown",
   "metadata": {},
   "source": [
    "loading data from mysql table to spark dataframe"
   ]
  },
  {
   "cell_type": "code",
   "execution_count": 60,
   "metadata": {},
   "outputs": [],
   "source": [
    "df_lowest_idle = spark.read.format(\"jdbc\") \\\n",
    "    .option(\"url\",\"jdbc:mysql://localhost:3306/sparkOperations\") \\\n",
    "    .option(\"driver\",\"com.mysql.jdbc.Driver\") \\\n",
    "    .option(\"dbtable\",\"lowest_idle_hr\") \\\n",
    "    .option(\"user\",user) \\\n",
    "    .option(\"password\",password).load()"
   ]
  },
  {
   "cell_type": "code",
   "execution_count": 61,
   "metadata": {},
   "outputs": [
    {
     "name": "stdout",
     "output_type": "stream",
     "text": [
      "+--------------------+---------+\n",
      "|           user_name|  idle_hr|\n",
      "+--------------------+---------+\n",
      "|deepshukla292@gma...|1hr 14min|\n",
      "|markfernandes66@g...|1hr 38min|\n",
      "|bhagyashrichalke2...|1hr 40min|\n",
      "|sharlawar77@gmail...|1hr 41min|\n",
      "|salinabodale73@gm...|1hr 50min|\n",
      "|rahilstar11@gmail...| 2hr 5min|\n",
      "|  iamnzm@outlook.com| 2hr 8min|\n",
      "|damodharn21@gmail...|    50min|\n",
      "+--------------------+---------+\n",
      "\n"
     ]
    }
   ],
   "source": [
    "df_lowest_idle.show()"
   ]
  },
  {
   "cell_type": "code",
   "execution_count": null,
   "metadata": {},
   "outputs": [],
   "source": []
  }
 ],
 "metadata": {
  "interpreter": {
   "hash": "916dbcbb3f70747c44a77c7bcd40155683ae19c65e1c03b4aa3499c5328201f1"
  },
  "kernelspec": {
   "display_name": "Python 3.8.10 64-bit",
   "name": "python3"
  },
  "language_info": {
   "codemirror_mode": {
    "name": "ipython",
    "version": 3
   },
   "file_extension": ".py",
   "mimetype": "text/x-python",
   "name": "python",
   "nbconvert_exporter": "python",
   "pygments_lexer": "ipython3",
   "version": "3.8.10"
  },
  "orig_nbformat": 4
 },
 "nbformat": 4,
 "nbformat_minor": 2
}